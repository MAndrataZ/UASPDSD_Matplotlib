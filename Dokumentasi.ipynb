{
 "cells": [
  {
   "cell_type": "markdown",
   "id": "006b3647-ad91-4534-aebd-3f05dff00a17",
   "metadata": {},
   "source": [
    "# DOKUMENTASI TAHAPAN ANALISIS DATA UAS PEMROGRAMAN DASAR SAINS DATA KELAS IF-7 KELOMPOK MATPLOTLIB\n",
    "- Kelompok :\n",
    "- Anggota : </br>\n",
    "10122236 - M Rijal Fadillah</br>\n",
    "10122237 - M Elsiano Gibran A</br>\n",
    "10122246 - Silvia Meida</br>\n",
    "10122248 - Jihan Salsabila</br>\n",
    "10122249 - Efelien Anindya Shifani</br>\n",
    "10122250 - Muhammad Andrata Zharfan Mustikaharfan M"
   ]
  },
  {
   "cell_type": "markdown",
   "id": "e2604ecc-d30a-4db7-a276-d14e385465a2",
   "metadata": {},
   "source": [
    "## Pertanyaan Bisnis / Kasus Analisis Data"
   ]
  },
  {
   "cell_type": "markdown",
   "id": "aa4be4cb-3507-493c-8dd3-cce9cba13730",
   "metadata": {},
   "source": [
    "- Pertanyaan 1 : Jika kategori produk menurut beratnya seperti berikut: Ringan (500g - 1Kg), Sedang (1Kg - 5Kg), berat (> 5Kg). Berapakah jumlah produk di setiap kategorinya dan produk mana yang paling banyak? - 1022250 - M Andrata Zharfan M\n",
    "- Pertanyaan 2 : Berapa banyak barang yang sampai ke pelanggan dalam kurun waktu kurang dari 30 hari setelah pelanggan memesannya? - 10122237 - Muhammad Elsiano G. A\n",
    "- Pertanyaan 3 : Berdasarkan data customer, Negara mana yang melakukan order terbanyak? - 10122236 - M Rijal Fadillah\n",
    "- Pertanyaan 4 : Metode pembayaran apa yang paling sering digunakan oleh konsumen dan bagaimana distribusi value pembayarannya? - 10122249 - Efelien Anindya Shifani\n",
    "- Pertanyaan 5 : Berdasarkan data seller, gambarkan distribusi kota penjual dan tampilkan kota mana yang penyebarannya paling banyak dan yang paling sedikit beserta jumlah penjualnya? - 10122248 - Jihan Salsabila\n",
    "- Pertanyaan 6 : Berapa persentase rating terbesar yang diberikan oleh konsumen? - 10122246 - Silvia Meida"
   ]
  },
  {
   "cell_type": "markdown",
   "id": "2f0a9fd7-c368-4fa0-855b-418821652302",
   "metadata": {},
   "source": [
    "## Menyaipkan semua library yang dibutuhkan"
   ]
  },
  {
   "cell_type": "code",
   "execution_count": 1,
   "id": "90d65ef2-7ef3-4663-acf6-2399af802ca3",
   "metadata": {},
   "outputs": [],
   "source": [
    "#import requirements\n",
    "import streamlit as st\n",
    "import pandas as pd\n",
    "import matplotlib.pyplot as plt\n",
    "import numpy as np\n",
    "from streamlit_option_menu import option_menu"
   ]
  },
  {
   "cell_type": "markdown",
   "id": "7be876f3-dda4-44a8-9025-d2e71cfa1d09",
   "metadata": {},
   "source": [
    "## Melakukan Load Data CSV"
   ]
  },
  {
   "cell_type": "code",
   "execution_count": 2,
   "id": "2f6c8aef-27e4-40f7-a728-071af31cba6b",
   "metadata": {},
   "outputs": [
    {
     "name": "stderr",
     "output_type": "stream",
     "text": [
      "2024-02-12 17:40:13.936 WARNING streamlit.runtime.caching.cache_data_api: No runtime found, using MemoryCacheStorageManager\n"
     ]
    }
   ],
   "source": [
    "@st.cache_data\n",
    "#Load Data CSV\n",
    "def load_data(url) :\n",
    "    df = pd.read_csv(url)\n",
    "    return df"
   ]
  },
  {
   "cell_type": "code",
   "execution_count": null,
   "id": "83626c19-5152-4702-9ab2-6131cfefaa9f",
   "metadata": {},
   "outputs": [],
   "source": []
  }
 ],
 "metadata": {
  "kernelspec": {
   "display_name": "Python 3 (ipykernel)",
   "language": "python",
   "name": "python3"
  },
  "language_info": {
   "codemirror_mode": {
    "name": "ipython",
    "version": 3
   },
   "file_extension": ".py",
   "mimetype": "text/x-python",
   "name": "python",
   "nbconvert_exporter": "python",
   "pygments_lexer": "ipython3",
   "version": "3.10.7"
  }
 },
 "nbformat": 4,
 "nbformat_minor": 5
}
